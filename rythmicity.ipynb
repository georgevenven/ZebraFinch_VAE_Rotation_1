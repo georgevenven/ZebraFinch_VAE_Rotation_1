{
 "cells": [
  {
   "cell_type": "code",
   "execution_count": null,
   "metadata": {},
   "outputs": [],
   "source": [
    "import matplotlib.pyplot as plt\n",
    "import numpy as np\n",
    "import os\n",
    "from scipy import signal\n",
    "from scipy.io import wavfile\n",
    "import io\n",
    "from PIL import Image\n",
    "import librosa\n",
    "\n",
    "test_file = '/home/george/Documents/other/song_extractor/37/Y12_44881.34006699_11_16_9_26_46.wav'\n",
    "root = '/home/george/Documents/other/song_extractor'"
   ]
  },
  {
   "cell_type": "markdown",
   "metadata": {},
   "source": [
    "#### For tuning parameters on a test file"
   ]
  },
  {
   "cell_type": "code",
   "execution_count": null,
   "metadata": {},
   "outputs": [],
   "source": [
    "# create sonogram of the whole song \n",
    " \n",
    "# wav to numpy array\n",
    "def wav_to_numpy(file):\n",
    "    rate, data = wavfile.read(file)\n",
    "    return rate, data\n",
    "\n",
    "def createSonogram(songfile):\n",
    "    data = wav_to_numpy(songfile)\n",
    "    rate = data[0]\n",
    "    data = data[1]\n",
    "\n",
    "    f, t, Sxx = signal.spectrogram(data, rate, nfft=512, noverlap=25, scaling=\"density\")\n",
    "\n",
    "    fmin = 400 # Hz\n",
    "    fmax = 8000 # Hz\n",
    "    freq_slice = np.where((f >= fmin) & (f <= fmax))\n",
    "\n",
    "    # keep only frequencies of interest\n",
    "    f   = f[freq_slice]\n",
    "    Sxx = Sxx[freq_slice,:][0]\n",
    "\n",
    "    Sxx = np.log(Sxx + 1)\n",
    "\n",
    "    np_sonogram = np.array(Sxx, dtype=\"float32\")\n",
    "    # figure size in inches 1,1\n",
    "    # plt.figure(figsize=(300,5))\n",
    "\n",
    "    # plt.pcolormesh(Sxx)\n",
    "    # plt.axis('off')\n",
    "    return np_sonogram \n",
    "\n",
    "# np sonogram is the numpy array of the sonogram\n",
    "np_sonogram = createSonogram(test_file)\n",
    "print(np_sonogram.shape)\n",
    "print(librosa.get_duration(filename=test_file) * 1000)\n",
    "\n",
    "ms_per_x_pixels = (librosa.get_duration(filename=test_file) * 1000) / np_sonogram.shape[1]\n",
    "print(ms_per_x_pixels)"
   ]
  },
  {
   "cell_type": "code",
   "execution_count": null,
   "metadata": {},
   "outputs": [],
   "source": [
    "# reverse the axis of the np array dim1 becomes dim 0 and vice versa\n",
    "np_sonogram = np_sonogram.T\n",
    "\n",
    "vertical_sum = np.sum(np_sonogram, axis=1)\n",
    "\n",
    "# x axis is the time axis\n",
    "plt.plot(vertical_sum) "
   ]
  },
  {
   "cell_type": "code",
   "execution_count": null,
   "metadata": {},
   "outputs": [],
   "source": [
    "f, t, Sxx = signal.spectrogram(vertical_sum, 1, nfft=256, noverlap=240, scaling=\"density\")\n",
    "Sxx = Sxx[:40]\n",
    "\n",
    "plt.pcolormesh(Sxx)"
   ]
  },
  {
   "cell_type": "markdown",
   "metadata": {},
   "source": [
    "#### For creating the rythmicity vs time segments"
   ]
  },
  {
   "cell_type": "code",
   "execution_count": null,
   "metadata": {},
   "outputs": [],
   "source": [
    "import math \n",
    "import matplotlib\n",
    "import gc\n",
    "from matplotlib import pyplot as plt\n",
    "import random\n",
    "\n",
    "save_dir = '/home/george/Documents/george_vae/testing/DoubleDerivative'\n",
    "root_dir = '/home/george/Documents/data/Y8/'\n",
    "\n",
    "for folder in os.listdir(root_dir):\n",
    "    list_of_double_sonograms = []\n",
    "    list_of_double_sonograms_names = []\n",
    "    for file in os.listdir(root_dir + folder):\n",
    "        # delete all the files in the after folder\n",
    "        try:\n",
    "            filename = file \n",
    "            file = root_dir + folder + '/' + file\n",
    "            np_sonogram = createSonogram(file)\n",
    "            np_sonogram = np_sonogram.T\n",
    "            vertical_sum = np.sum(np_sonogram, axis=1)\n",
    "            f, t, Sxx = signal.spectrogram(vertical_sum, 1, nfft=256, noverlap=240, scaling=\"density\")\n",
    "            Sxx = Sxx[:40]\n",
    "            # flip Sxx upside down\n",
    "            Sxx = np.flip(Sxx, axis=0)\n",
    "            plt.pcolormesh(Sxx)\n",
    "            list_of_double_sonograms.append(Sxx)\n",
    "            list_of_double_sonograms_names.append(filename)\n",
    "\n",
    "        except:\n",
    "            print('error with file: ' + file)\n",
    "\n",
    "    os.mkdir(save_dir + '/' + folder)\n",
    "\n",
    "    # write this so as to not load all the pyplot images into mem \n",
    "    for i, sonogram in enumerate(list_of_double_sonograms):\n",
    "        plt.figure(figsize=(1.28,1.28))\n",
    "        plt.imshow(sonogram, aspect='auto')\n",
    "        plt.gca().set_axis_off()\n",
    "        plt.subplots_adjust(top = 1, bottom = 0, right = 1, left = 0, \n",
    "                    hspace = 0, wspace = 0)\n",
    "        plt.margins(0,0)\n",
    "        plt.savefig(save_dir + '/' + folder + '/' + list_of_double_sonograms_names[i] + '.png', dpi=100)\n",
    "        plt.clf()"
   ]
  }
 ],
 "metadata": {
  "kernelspec": {
   "display_name": "Python 3.9.12 ('base')",
   "language": "python",
   "name": "python3"
  },
  "language_info": {
   "name": "python",
   "version": "3.9.12"
  },
  "orig_nbformat": 4,
  "vscode": {
   "interpreter": {
    "hash": "5ddfca89fb0ff7038606e5fd782b59d233ff8cbd5b2a6aabb29749a82eca2773"
   }
  }
 },
 "nbformat": 4,
 "nbformat_minor": 2
}
